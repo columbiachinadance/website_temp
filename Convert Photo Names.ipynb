{
 "cells": [
  {
   "cell_type": "code",
   "execution_count": 30,
   "metadata": {},
   "outputs": [],
   "source": [
    "import glob\n",
    "import cv2\n",
    "import os"
   ]
  },
  {
   "cell_type": "code",
   "execution_count": 31,
   "metadata": {},
   "outputs": [],
   "source": [
    "imga = sorted(glob.glob(\"assets/2018-19/showcase/*\"))"
   ]
  },
  {
   "cell_type": "code",
   "execution_count": 32,
   "metadata": {},
   "outputs": [],
   "source": [
    "i = 0\n",
    "for image in imga:\n",
    "    img = cv2.imread(image)\n",
    "    name = \"assets/2018-19/showcase/\" + str(i+1) + \".JPG\"\n",
    "    cv2.imwrite(name, img)\n",
    "    i+=1\n",
    "    \n",
    "    \n",
    "    "
   ]
  },
  {
   "cell_type": "code",
   "execution_count": 18,
   "metadata": {},
   "outputs": [],
   "source": [
    "imga = sorted(glob.glob(\"assets/2017-18/*\"))"
   ]
  },
  {
   "cell_type": "code",
   "execution_count": 19,
   "metadata": {},
   "outputs": [
    {
     "data": {
      "text/plain": [
       "['assets/2017-18/0.png',\n",
       " 'assets/2017-18/Copy of Columbia U LNY2018-01-2.jpg',\n",
       " 'assets/2017-18/Copy of Columbia U LNY2018-05.jpg',\n",
       " 'assets/2017-18/Copy of Columbia U LNY2018-22.jpg\\xef\\xbc\\x88\\xe5\\x89\\xaf\\xe6\\x9c\\xac\\xef\\xbc\\x89.jpg',\n",
       " 'assets/2017-18/Copy of Columbia U LNY2018-26.jpg',\n",
       " 'assets/2017-18/Copy of IMG_9580.JPG',\n",
       " 'assets/2017-18/DSC00276.JPG',\n",
       " 'assets/2017-18/DSC03583.JPG',\n",
       " 'assets/2017-18/DSC03595.JPG',\n",
       " 'assets/2017-18/DSC03601.JPG',\n",
       " 'assets/2017-18/DSC03605.JPG',\n",
       " 'assets/2017-18/DSC03611.JPG',\n",
       " 'assets/2017-18/IMG_0659.JPG',\n",
       " 'assets/2017-18/IMG_0667.JPG',\n",
       " 'assets/2017-18/IMG_4121.JPG',\n",
       " 'assets/2017-18/IMG_4123.JPG\\xef\\xbc\\x88\\xe5\\x89\\xaf\\xe6\\x9c\\xac\\xef\\xbc\\x89.jpg',\n",
       " 'assets/2017-18/IMG_4125.JPG',\n",
       " 'assets/2017-18/IMG_4126.JPG',\n",
       " 'assets/2017-18/LRG_DSC04891.JPG']"
      ]
     },
     "execution_count": 19,
     "metadata": {},
     "output_type": "execute_result"
    }
   ],
   "source": [
    "imga"
   ]
  },
  {
   "cell_type": "code",
   "execution_count": 29,
   "metadata": {},
   "outputs": [
    {
     "ename": "ImportError",
     "evalue": "No module named File",
     "output_type": "error",
     "traceback": [
      "\u001b[0;31m---------------------------------------------------------------------------\u001b[0m",
      "\u001b[0;31mImportError\u001b[0m                               Traceback (most recent call last)",
      "\u001b[0;32m<ipython-input-29-ab3c269a385d>\u001b[0m in \u001b[0;36m<module>\u001b[0;34m()\u001b[0m\n\u001b[0;32m----> 1\u001b[0;31m \u001b[0;32mimport\u001b[0m \u001b[0mFile\u001b[0m\u001b[0;34m\u001b[0m\u001b[0m\n\u001b[0m\u001b[1;32m      2\u001b[0m \u001b[0ma\u001b[0m \u001b[0;34m=\u001b[0m \u001b[0;34m\"<a href=assets\"\u001b[0m \u001b[0;34m+\u001b[0m \u001b[0mFile\u001b[0m\u001b[0;34m.\u001b[0m\u001b[0mseparator\u001b[0m \u001b[0;34m+\u001b[0m \u001b[0;34m\"2018-19\"\u001b[0m \u001b[0;34m+\u001b[0m \u001b[0mFile\u001b[0m\u001b[0;34m.\u001b[0m\u001b[0mseparator\u001b[0m \u001b[0;34m+\u001b[0m \u001b[0;34m\"showcase\"\u001b[0m \u001b[0;34m+\u001b[0m \u001b[0mFile\u001b[0m\u001b[0;34m.\u001b[0m\u001b[0mseparator\u001b[0m \u001b[0;34m+\u001b[0m \u001b[0mstr\u001b[0m\u001b[0;34m(\u001b[0m\u001b[0mi\u001b[0m\u001b[0;34m)\u001b[0m \u001b[0;34m+\u001b[0m \u001b[0;34m\".JPG\"\u001b[0m\u001b[0;34m\u001b[0m\u001b[0m\n",
      "\u001b[0;31mImportError\u001b[0m: No module named File"
     ]
    }
   ],
   "source": [
    "import File \n",
    "a = \"<a href=assets\" + File.separator + \"2018-19\" + File.separator + \"showcase\" + File.separator + str(i) + \".JPG\"\n"
   ]
  },
  {
   "cell_type": "code",
   "execution_count": null,
   "metadata": {},
   "outputs": [],
   "source": []
  }
 ],
 "metadata": {
  "kernelspec": {
   "display_name": "Python 3",
   "language": "python",
   "name": "python3"
  },
  "language_info": {
   "codemirror_mode": {
    "name": "ipython",
    "version": 2
   },
   "file_extension": ".py",
   "mimetype": "text/x-python",
   "name": "python",
   "nbconvert_exporter": "python",
   "pygments_lexer": "ipython2",
   "version": "2.7.15"
  }
 },
 "nbformat": 4,
 "nbformat_minor": 2
}
